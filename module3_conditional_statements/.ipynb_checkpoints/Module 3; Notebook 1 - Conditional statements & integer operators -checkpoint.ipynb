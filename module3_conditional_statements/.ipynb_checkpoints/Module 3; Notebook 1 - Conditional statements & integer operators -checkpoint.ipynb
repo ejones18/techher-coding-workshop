{
 "cells": [
  {
   "cell_type": "markdown",
   "id": "9fdb1e08",
   "metadata": {},
   "source": [
    "# Module 3; Notebook 1 - Conditional statements & integer operators "
   ]
  },
  {
   "cell_type": "markdown",
   "id": "8a393a09",
   "metadata": {},
   "source": [
    "To round off the learning content, we'll be looking at integer operators and conditional (`if-else`) statements ready for the final project of the workshop!"
   ]
  },
  {
   "cell_type": "markdown",
   "id": "8dc693ad",
   "metadata": {},
   "source": [
    "## Integer operators"
   ]
  },
  {
   "cell_type": "markdown",
   "id": "e91668dc",
   "metadata": {},
   "source": [
    "In the previous section we looked at the data types and operators, now let's see how we use operators on the numerical data types - integers & floats.\n",
    "\n",
    "Identical to mathmatics, Python has operators to deal with the most common mathematic operations - here they are:"
   ]
  },
  {
   "cell_type": "code",
   "execution_count": null,
   "id": "f368350e",
   "metadata": {},
   "outputs": [],
   "source": [
    "# Addition\n",
    "addition_sum = 4 + 3 #7\n",
    "# Subtraction\n",
    "subtraction_sum = 7 - 3 #4\n",
    "# Multiplication\n",
    "multiplication_sum = 4 * 3 #12 \n",
    "# Division\n",
    "division_sum = 12 / 4 #3.0\n",
    "\n",
    "print(addition_sum, subtraction_sum, multiplication_sum, division_sum) #7, 4, 12, 3.0"
   ]
  },
  {
   "cell_type": "markdown",
   "id": "378b2af6",
   "metadata": {},
   "source": [
    "The ```/``` operator is ued for float division, hence the 3.0 value of the division sum above - to change this to integer division change the ```/``` operator to ```//``` and run the cell above again!"
   ]
  },
  {
   "cell_type": "markdown",
   "id": "e8bdaf09",
   "metadata": {},
   "source": [
    "In regards to operators precedence, Python follows the acronym PEMDAS:\n",
    "\n",
    "P for Parentheses, then\n",
    "\n",
    "E for Exponents, then\n",
    "\n",
    "MD for Multiplication and division, left to right, then\n",
    "\n",
    "AS for Addition and subtraction, left to right\n",
    "\n",
    "This means that multiplication and division carry the same precedence as does addition and subtraction. Let's check out an example to see these in play:"
   ]
  },
  {
   "cell_type": "code",
   "execution_count": null,
   "id": "3523cbc0",
   "metadata": {},
   "outputs": [],
   "source": [
    "10 - ((7 / 2) * 3) + 1 # 10 - (3.5 * 3) + 1 = 0.5"
   ]
  },
  {
   "cell_type": "markdown",
   "id": "c49bca1b",
   "metadata": {},
   "source": [
    "Staying true to the PEMDAS acronym, Python executed the parentheses the first and finished with the addition and subtraction! If you need some time to play around with the operators, here's a code cell for you to fool around with:"
   ]
  },
  {
   "cell_type": "code",
   "execution_count": null,
   "id": "92960229",
   "metadata": {},
   "outputs": [],
   "source": [
    "# Use this cell to have a play around with the operators"
   ]
  },
  {
   "cell_type": "markdown",
   "id": "bb33d241",
   "metadata": {},
   "source": [
    "## Conditional statements"
   ]
  },
  {
   "cell_type": "markdown",
   "id": "4231f887",
   "metadata": {},
   "source": [
    "Conditional statements, or if-else statements, provide us a way to handle decisions. Conditionals perform different actions depending on whether a boolean (True or False) condition evaluates to either True or False. Let's explore a few examples together:"
   ]
  },
  {
   "cell_type": "code",
   "execution_count": null,
   "id": "1d199466",
   "metadata": {},
   "outputs": [],
   "source": [
    "x = 1\n",
    "# Defining an if-statement\n",
    "if x == 1: # Can be read as if x equals 1 then...\n",
    "    # Code within a conditional statement needs indenting\n",
    "    print(\"X is 1\") # Print statement if the pre-defined condition (if x does equal 1) is True"
   ]
  },
  {
   "cell_type": "code",
   "execution_count": null,
   "id": "1a63fa45",
   "metadata": {},
   "outputs": [],
   "source": [
    "x = 2\n",
    "# Defining an if-else statement\n",
    "if x == 1: # Can be read as if x equals 1 then... requires a colon at the end of the statement\n",
    "    # Code within a conditional statement needs indenting\n",
    "    print(\"X is 1\") # Print statement if the pre-defined condition is True\n",
    "else: # Else statement to handle situations where x isn't 1\n",
    "    # Code within a conditional statement needs indenting\n",
    "    print(\"X is not 1\")"
   ]
  },
  {
   "cell_type": "markdown",
   "id": "fe438668",
   "metadata": {},
   "source": [
    "### Syntax"
   ]
  },
  {
   "cell_type": "markdown",
   "id": "fa3b0a50",
   "metadata": {},
   "source": [
    "In terms of laying out a conditional statement, we usually follow the layout:\n",
    "\n",
    "if ```specfic condition```:\n",
    "\n",
    "    code to be executed if the above condition is met\n",
    "    \n",
    "elif ```another specfic condition```:\n",
    "\n",
    "    code to be executed if the above condition is met\n",
    "    \n",
    "else:\n",
    "    \n",
    "    code to be executed if none of the specific conditions are met\n",
    "    \n",
    "\n",
    "Note the indentation of the 'code' inside the conditional clauses, this is crucial and part of the Python syntax. All conditions must end with a colon as show in the examples above.\n",
    "\n",
    "Not all conditional statements have all of the clauses shown above, like the first cell in this example where we check if x = 1.\n",
    "\n",
    "*Additional note - elif is short for else if*"
   ]
  },
  {
   "cell_type": "code",
   "execution_count": null,
   "id": "bd3223c0",
   "metadata": {},
   "outputs": [],
   "source": [
    "#Fully fledge example\n",
    "x = 12\n",
    "if x / 5 == 0: # Can X be divided exactly by 5\n",
    "    print(\"X is exactly divisble by 5\")\n",
    "elif x / 2.3 == 0: # Can X be divided exactly by 2.3\n",
    "    print(\"X is exactly divisble by 2.3\")\n",
    "else:\n",
    "    print(\"X not exactly divisible by 5 or 2.3\")"
   ]
  },
  {
   "cell_type": "markdown",
   "id": "933d14f9",
   "metadata": {},
   "source": [
    "Now we've looked at conditionals and comparing integers, let's through floats into the equation..."
   ]
  },
  {
   "cell_type": "code",
   "execution_count": null,
   "id": "1c717c8c",
   "metadata": {
    "scrolled": true
   },
   "outputs": [],
   "source": [
    "x = 2.0\n",
    "y = 2\n",
    "if x == y:\n",
    "    print(\"Yay\")\n",
    "    print(type(x), type(y))"
   ]
  },
  {
   "cell_type": "markdown",
   "id": "c3a324c3",
   "metadata": {},
   "source": [
    "As we can see, we can compare the value of a float to an integer - the example equates to True as casting ```2.0``` to an integer will yield ```2```!"
   ]
  },
  {
   "cell_type": "markdown",
   "id": "24b4c689",
   "metadata": {},
   "source": [
    "### Comparing strings & characters"
   ]
  },
  {
   "cell_type": "markdown",
   "id": "c789c243",
   "metadata": {},
   "source": [
    "Now we've explored conditional statements and comparing integers, let's take a look at strings!"
   ]
  },
  {
   "cell_type": "code",
   "execution_count": null,
   "id": "270e73d4",
   "metadata": {},
   "outputs": [],
   "source": [
    "if \"Hello\" == \"HeLlo\":\n",
    "    print(\"The same!\")\n",
    "else:\n",
    "    print(\"Not the same!\")"
   ]
  },
  {
   "cell_type": "markdown",
   "id": "96aca5c1",
   "metadata": {},
   "source": [
    "As each string e.g. ```Hello``` can have any variations e.g. ```HeLlo```, we need a way to be able compare whether strings are actually the same..."
   ]
  },
  {
   "cell_type": "code",
   "execution_count": null,
   "id": "2f21cbe2",
   "metadata": {
    "scrolled": true
   },
   "outputs": [],
   "source": [
    "first_word = \"HeLlO\"\n",
    "print(first_word.lower()) # Convert the string to lowercase!"
   ]
  },
  {
   "cell_type": "code",
   "execution_count": null,
   "id": "ab882c57",
   "metadata": {},
   "outputs": [],
   "source": [
    "if \"Hello\".lower() == \"HeLlo\".lower():\n",
    "    print(\"The same!\")\n",
    "else:\n",
    "    print(\"Not the same!\")"
   ]
  },
  {
   "cell_type": "markdown",
   "id": "860c8571",
   "metadata": {},
   "source": [
    "We use the ```.lower()``` function on both the strings we are comparing to convert them both to lowercase format - this allows for easy comparison!"
   ]
  },
  {
   "cell_type": "code",
   "execution_count": null,
   "id": "1e6e64e0",
   "metadata": {},
   "outputs": [],
   "source": [
    "if 'A' == 'a':\n",
    "    print(\"The same!\")\n",
    "else:\n",
    "    print(\"Not the same!\")"
   ]
  },
  {
   "cell_type": "markdown",
   "id": "48d2ba93",
   "metadata": {},
   "source": [
    "Comparing characters works the same way as strings in the sense that letters need to be converted to lower case in order for the conditional statement to evaluate to True.\n",
    "\n",
    "Below are a few other examples to aid your understanding!"
   ]
  },
  {
   "cell_type": "code",
   "execution_count": null,
   "id": "20fd2b35",
   "metadata": {},
   "outputs": [],
   "source": [
    "input_char = '*'\n",
    "if input_char == '*':\n",
    "    print('*')"
   ]
  },
  {
   "cell_type": "code",
   "execution_count": null,
   "id": "a637d051",
   "metadata": {},
   "outputs": [],
   "source": [
    "input_char = '$'\n",
    "if input_char == '£':\n",
    "    print('£')\n",
    "elif input_char == '$':\n",
    "    print('$')\n",
    "else:\n",
    "    print('Something else')"
   ]
  },
  {
   "cell_type": "markdown",
   "id": "614018e2",
   "metadata": {},
   "source": [
    "### The ```!=``` operator in conditional statements"
   ]
  },
  {
   "cell_type": "markdown",
   "id": "5481140c",
   "metadata": {},
   "source": [
    "In order to test if a variable is not equal to a certain value we use the operator ```!``` which can be read as not. This operator is particularly useful if you only need to hand one value in a different way to others."
   ]
  },
  {
   "cell_type": "code",
   "execution_count": null,
   "id": "213b04a9",
   "metadata": {},
   "outputs": [],
   "source": [
    "x = 5\n",
    "if x != 5:\n",
    "    print(\"The value is not 5\")\n",
    "else:\n",
    "    print(\"x is 5\")"
   ]
  },
  {
   "cell_type": "code",
   "execution_count": null,
   "id": "9c01e437",
   "metadata": {},
   "outputs": [],
   "source": [
    "char_1 = 'a'\n",
    "char_2 = 'b'\n",
    "if char_1 != char_2:\n",
    "    print(\"The characters are different\")"
   ]
  }
 ],
 "metadata": {
  "kernelspec": {
   "display_name": "Python 3 (ipykernel)",
   "language": "python",
   "name": "python3"
  },
  "language_info": {
   "codemirror_mode": {
    "name": "ipython",
    "version": 3
   },
   "file_extension": ".py",
   "mimetype": "text/x-python",
   "name": "python",
   "nbconvert_exporter": "python",
   "pygments_lexer": "ipython3",
   "version": "3.8.10"
  }
 },
 "nbformat": 4,
 "nbformat_minor": 5
}
