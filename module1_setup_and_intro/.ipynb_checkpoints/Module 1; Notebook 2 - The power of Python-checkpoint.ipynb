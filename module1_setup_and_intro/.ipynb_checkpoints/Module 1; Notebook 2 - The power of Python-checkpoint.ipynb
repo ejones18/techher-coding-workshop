{
 "cells": [
  {
   "cell_type": "markdown",
   "id": "186ddc9c",
   "metadata": {},
   "source": [
    "# Module 1; Notebook 2 - The power of Python"
   ]
  },
  {
   "cell_type": "markdown",
   "id": "be76858a",
   "metadata": {},
   "source": [
    "The purpose of thie notebook is to provide some insight into the next steps after you've completed this workshop - the learning journey never stops!"
   ]
  },
  {
   "cell_type": "markdown",
   "id": "2cc6f649",
   "metadata": {},
   "source": [
    "## A quick overview"
   ]
  },
  {
   "cell_type": "markdown",
   "id": "a708d233",
   "metadata": {},
   "source": [
    "Python is a general-purpose programming language, often used for web development, machine learning & data handling. It is often referred to as the most sort after programming langugage for upcoming developers due to it's highly impactful use cases as well as the current trend in industry!\n",
    "\n",
    "Run the cell below to see one application of Python - data visualisation!"
   ]
  },
  {
   "cell_type": "code",
   "execution_count": null,
   "id": "01094110",
   "metadata": {
    "scrolled": true
   },
   "outputs": [],
   "source": [
    "%matplotlib inline\n",
    "import matplotlib.pyplot as plt\n",
    "\n",
    "data = [23, 45, 56, 78, 213]\n",
    "plt.bar([1, 2, 3, 4, 5], data)\n",
    "plt.show()"
   ]
  }
 ],
 "metadata": {
  "kernelspec": {
   "display_name": "Python 3 (ipykernel)",
   "language": "python",
   "name": "python3"
  },
  "language_info": {
   "codemirror_mode": {
    "name": "ipython",
    "version": 3
   },
   "file_extension": ".py",
   "mimetype": "text/x-python",
   "name": "python",
   "nbconvert_exporter": "python",
   "pygments_lexer": "ipython3",
   "version": "3.8.10"
  }
 },
 "nbformat": 4,
 "nbformat_minor": 5
}
