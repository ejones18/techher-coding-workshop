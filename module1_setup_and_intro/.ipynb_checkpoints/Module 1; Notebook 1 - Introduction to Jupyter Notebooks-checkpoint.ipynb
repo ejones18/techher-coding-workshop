{
 "cells": [
  {
   "cell_type": "markdown",
   "id": "85fa9fb7",
   "metadata": {},
   "source": [
    "# Module 1; Notebook 1 - Introduction to Jupyter Notebooks"
   ]
  },
  {
   "cell_type": "markdown",
   "id": "44d54e3f",
   "metadata": {},
   "source": [
    "This notebook, albeit optional, is provided as a useful overview of the Jupyter Notebook platform we'll be using for the learning section of this workshop!\n",
    "\n",
    "Jupyter Notebooks integrate your code and its output into a single document. These notebooks will contain the text, mathematical equations, and any visualisations that the code produces directly in the same page - it will act as our learning environment!"
   ]
  },
  {
   "cell_type": "markdown",
   "id": "2775dc37",
   "metadata": {},
   "source": [
    "## How to use these notebooks"
   ]
  },
  {
   "cell_type": "markdown",
   "id": "137e4050",
   "metadata": {},
   "source": [
    "Below you'll see a Python print command which we'll use as an example. If you select the cell and hit ```ctrl+Enter``` or even click the ```Run``` button along the nav bar at the top, the code within that cell will run and the output will be printed to the notebook."
   ]
  },
  {
   "cell_type": "code",
   "execution_count": null,
   "id": "d46b3eff",
   "metadata": {},
   "outputs": [],
   "source": [
    "print(\"This is a Jupyter Notebook\")"
   ]
  },
  {
   "cell_type": "markdown",
   "id": "861cf56e",
   "metadata": {},
   "source": [
    "Throughout these notebooks, all sections will require the code cells to be ran in order - we encourage participants not to race through and run all the cells at once as this will greatly hinder their understanding of the material."
   ]
  },
  {
   "cell_type": "markdown",
   "id": "cb2f060a",
   "metadata": {},
   "source": [
    "For some, this may not 'feel' like 'proper' coding however these interactive notebooks provide a great platform to experiment and learn the basics - we will be navigating over to VS Code later!"
   ]
  }
 ],
 "metadata": {
  "kernelspec": {
   "display_name": "Python 3 (ipykernel)",
   "language": "python",
   "name": "python3"
  },
  "language_info": {
   "codemirror_mode": {
    "name": "ipython",
    "version": 3
   },
   "file_extension": ".py",
   "mimetype": "text/x-python",
   "name": "python",
   "nbconvert_exporter": "python",
   "pygments_lexer": "ipython3",
   "version": "3.8.10"
  }
 },
 "nbformat": 4,
 "nbformat_minor": 5
}
