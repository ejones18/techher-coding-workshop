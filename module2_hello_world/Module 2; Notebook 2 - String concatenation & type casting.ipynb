{
 "cells": [
  {
   "cell_type": "markdown",
   "id": "f0b2f387",
   "metadata": {},
   "source": [
    "# Module 2; Notebook 2 - String concatenation & type casting"
   ]
  },
  {
   "cell_type": "markdown",
   "id": "29fbf71d",
   "metadata": {},
   "source": [
    "In this notebook we'll now look at combining a few of the features we looked at in the previous notebook so that we can handle numbers correctly. We'll also explore concatenating strings together using the ```+``` operator."
   ]
  },
  {
   "cell_type": "markdown",
   "id": "07511ea9",
   "metadata": {},
   "source": [
    "## String concatenation "
   ]
  },
  {
   "cell_type": "markdown",
   "id": "bf78c2a1",
   "metadata": {},
   "source": [
    "Building on the foundations of the last notebook, let's look at how we can use are inputs and concatenate them with other strings. If you remember from the start of the notebook, we briefly brushed over the ```+``` operator which will allow us to do this."
   ]
  },
  {
   "cell_type": "code",
   "execution_count": null,
   "id": "355dd642",
   "metadata": {
    "scrolled": true
   },
   "outputs": [],
   "source": [
    "name = 'Ethan'\n",
    "print(\"My name is \" + name)"
   ]
  },
  {
   "cell_type": "markdown",
   "id": "197f0179",
   "metadata": {},
   "source": [
    "The example above shows how we can conacatenate strings together to create a different output. Now let's see how we can do it with a string and an integer..."
   ]
  },
  {
   "cell_type": "code",
   "execution_count": null,
   "id": "bed06e74",
   "metadata": {
    "scrolled": true
   },
   "outputs": [],
   "source": [
    "print(\"My age is \" + 20)"
   ]
  },
  {
   "cell_type": "markdown",
   "id": "ab1d683a",
   "metadata": {},
   "source": [
    "Looking at the output, can you see what has happened here... \n",
    "\n",
    "We can only concatentate strings together - but how do we add an integer into the sentence?"
   ]
  },
  {
   "cell_type": "code",
   "execution_count": null,
   "id": "7103d29a",
   "metadata": {},
   "outputs": [],
   "source": [
    "age = 20\n",
    "age_str = str(age)\n",
    "type(age_str)"
   ]
  },
  {
   "cell_type": "code",
   "execution_count": null,
   "id": "f128a2dd",
   "metadata": {
    "scrolled": true
   },
   "outputs": [],
   "source": [
    "print(\"My age is \" + age_str)"
   ]
  },
  {
   "cell_type": "markdown",
   "id": "50326e3d",
   "metadata": {},
   "source": [
    "To concatentate we've casted the integer 20 into a string and then concatenated it to the string \"My age is\"! \n",
    "\n",
    "What is casting - let's take a further look into the process and use cases of type casting."
   ]
  },
  {
   "cell_type": "markdown",
   "id": "462feb8a",
   "metadata": {},
   "source": [
    "## Type casting & the ```input()``` function in more detail"
   ]
  },
  {
   "cell_type": "markdown",
   "id": "37b408e7",
   "metadata": {},
   "source": [
    "Type casting is the process of changing the data type of a value for example from a integer to a float. It is done using a casting function depending on the type you want to cast to:"
   ]
  },
  {
   "cell_type": "code",
   "execution_count": null,
   "id": "4cc6e1eb",
   "metadata": {
    "scrolled": true
   },
   "outputs": [],
   "source": [
    "example_1 = type(str(1)) # int -> string\n",
    "example_2 = type(int(\"1\")) #string -> int\n",
    "example_3 = type(bool(\"True\")) #string -> boolean\n",
    "example_4 = type(float(1)) #int -> float\n",
    "\n",
    "print(example_1, example_2, example_3, example_4)"
   ]
  },
  {
   "cell_type": "markdown",
   "id": "a9a0bda0",
   "metadata": {},
   "source": [
    "As we can see from the printed classes and the code snippet, we have access to numerous casting functions to change the types of variables - if they're compatible."
   ]
  },
  {
   "cell_type": "markdown",
   "id": "bc56fe74",
   "metadata": {},
   "source": [
    "By default, the ```input()``` function returns a string. For the cell below, enter in the value ```6``` for the sake of this example!"
   ]
  },
  {
   "cell_type": "code",
   "execution_count": null,
   "id": "a18e9533",
   "metadata": {},
   "outputs": [],
   "source": [
    "random_number = input()"
   ]
  },
  {
   "cell_type": "code",
   "execution_count": null,
   "id": "594c555a",
   "metadata": {
    "scrolled": true
   },
   "outputs": [],
   "source": [
    "type(random_number)"
   ]
  },
  {
   "cell_type": "markdown",
   "id": "c6f097a8",
   "metadata": {},
   "source": [
    "This means that when we pass in an integer as an input we'll have to cast it to the correct data type; into an integer. Casting is the process of change compatable values into antoher data type e.g. 3 as an integer can be casted to a float. "
   ]
  },
  {
   "cell_type": "code",
   "execution_count": null,
   "id": "0d12731d",
   "metadata": {},
   "outputs": [],
   "source": [
    "random_number2 = 42\n",
    "type(random_number2)"
   ]
  },
  {
   "cell_type": "code",
   "execution_count": null,
   "id": "4de04d80",
   "metadata": {},
   "outputs": [],
   "source": [
    "casted_random_number = float(random_number2)\n",
    "type(casted_random_number)"
   ]
  },
  {
   "cell_type": "code",
   "execution_count": null,
   "id": "df97cbf8",
   "metadata": {
    "scrolled": true
   },
   "outputs": [],
   "source": [
    "print(casted_random_number)"
   ]
  },
  {
   "cell_type": "markdown",
   "id": "0193ea44",
   "metadata": {},
   "source": [
    "As you can see casting ```42``` into a float yields ```42.0```. Do note that casting between some data types won't work for example casting a integer to a string:"
   ]
  },
  {
   "cell_type": "code",
   "execution_count": null,
   "id": "e0a14109",
   "metadata": {},
   "outputs": [],
   "source": [
    "test_string = \"Hello!\"\n",
    "casted_test_string = int(test_string)"
   ]
  },
  {
   "cell_type": "markdown",
   "id": "9614a256",
   "metadata": {},
   "source": [
    "As you can see from the error when running the above cell, we can't cast a the string 'Hello' into an integer as it isn't a whole, numerical value.\n",
    "\n",
    "That brings us to the end of the second module. For the last module we'll look at numerical operators and conidtional statements!"
   ]
  }
 ],
 "metadata": {
  "kernelspec": {
   "display_name": "Python 3 (ipykernel)",
   "language": "python",
   "name": "python3"
  },
  "language_info": {
   "codemirror_mode": {
    "name": "ipython",
    "version": 3
   },
   "file_extension": ".py",
   "mimetype": "text/x-python",
   "name": "python",
   "nbconvert_exporter": "python",
   "pygments_lexer": "ipython3",
   "version": "3.8.3"
  }
 },
 "nbformat": 4,
 "nbformat_minor": 5
}
