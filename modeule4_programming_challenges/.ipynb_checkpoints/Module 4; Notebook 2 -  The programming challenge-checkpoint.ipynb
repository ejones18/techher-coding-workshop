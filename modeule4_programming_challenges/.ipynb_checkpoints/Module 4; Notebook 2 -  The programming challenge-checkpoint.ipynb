{
 "cells": [
  {
   "cell_type": "markdown",
   "id": "727c2c21",
   "metadata": {},
   "source": [
    "# Module 4; Notebook 2 -  The programming challenge"
   ]
  },
  {
   "cell_type": "markdown",
   "id": "9de679c2",
   "metadata": {},
   "source": [
    "Now that we have gone through a lot of content, let's put it to the test and build something! We have a few different challenges for you to choose from depending how far you got with the content and also how comfortable you feel!\n",
    "\n",
    "Let's take a look at them:"
   ]
  },
  {
   "cell_type": "markdown",
   "id": "ff6d75fa",
   "metadata": {},
   "source": [
    "## Challenge A: Fahrenheit to Celsius converter"
   ]
  },
  {
   "cell_type": "markdown",
   "id": "456d18fd",
   "metadata": {},
   "source": [
    "### Brief description, example & extension task"
   ]
  },
  {
   "cell_type": "markdown",
   "id": "54c4e0df",
   "metadata": {},
   "source": [
    "Take an input value from the user (this will be the temperature in Fahrenheit), convert it to Celsius and then print the result of the conversion!\n",
    "\n",
    "The formula is as follows: *Fahrenheit (°F) = (Celsius x 1.8) + 32*"
   ]
  },
  {
   "cell_type": "markdown",
   "id": "dc4c2a58",
   "metadata": {},
   "source": [
    "For example:\n",
    "```\n",
    "*What is the temperature in fahrenheit?  55*\n",
    "\n",
    "*Temperature in celsius is 12*\n",
    "```"
   ]
  },
  {
   "cell_type": "markdown",
   "id": "138d0696",
   "metadata": {},
   "source": [
    "**To push yourself further, extend the converter to ask the user which unit they'd like to convert from!**\n",
    "\n",
    "For example:\n",
    "```\n",
    "*Which measurement is your temperature in? celsius*\n",
    "\n",
    "*What is the temperature in celsius?  12*\n",
    "\n",
    "*Temperature in fahrenheit is 55*\n",
    "```"
   ]
  },
  {
   "cell_type": "markdown",
   "id": "725a6a2d",
   "metadata": {},
   "source": [
    "## Challenge B: A calculator"
   ]
  },
  {
   "cell_type": "markdown",
   "id": "5e4ca3a2",
   "metadata": {},
   "source": [
    "### Brief description, example & extension task"
   ]
  },
  {
   "cell_type": "markdown",
   "id": "b05c1fef",
   "metadata": {},
   "source": [
    "Create a single-use calculator that asks for 2 numbers and an operation (from the ones we learnt about the previous sections) and performs the mathematic operation and prints the result!\n",
    "\n",
    "For example:\n",
    "```\n",
    "*First number? 20*\n",
    "\n",
    "*Operation? /*\n",
    "\n",
    "*Second number? 5*\n",
    "\n",
    "*20 / 5 equals 4*\n",
    "```\n",
    "\n",
    "Feel free to change around the input prompts and print statements to your heart's desire!\n",
    "\n",
    "**To push yourself further, extend the calculator to handle erronous inputs i.e. not a mathematical operator**\n",
    "\n",
    "```\n",
    "*First number? 20*\n",
    "\n",
    "*Operation? A*\n",
    "\n",
    "*Sorry, that isn't a mathematical operator*\n",
    "```"
   ]
  }
 ],
 "metadata": {
  "kernelspec": {
   "display_name": "Python 3 (ipykernel)",
   "language": "python",
   "name": "python3"
  },
  "language_info": {
   "codemirror_mode": {
    "name": "ipython",
    "version": 3
   },
   "file_extension": ".py",
   "mimetype": "text/x-python",
   "name": "python",
   "nbconvert_exporter": "python",
   "pygments_lexer": "ipython3",
   "version": "3.8.3"
  }
 },
 "nbformat": 4,
 "nbformat_minor": 5
}
