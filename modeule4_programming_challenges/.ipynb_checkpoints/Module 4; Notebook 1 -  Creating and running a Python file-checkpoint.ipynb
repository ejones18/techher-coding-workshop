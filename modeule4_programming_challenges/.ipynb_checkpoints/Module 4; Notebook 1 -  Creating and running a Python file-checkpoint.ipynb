{
 "cells": [
  {
   "cell_type": "markdown",
   "id": "567ba259",
   "metadata": {},
   "source": [
    "# Module 4; Notebook 1 -  Creating and running a Python file"
   ]
  },
  {
   "cell_type": "markdown",
   "id": "8cd04ad2",
   "metadata": {},
   "source": [
    "Before we move onto the programming challenge of this workshop, let's see how we set-up a Python file in VS:\n",
    "\n",
    "At the top nav bar of the window, go to ```File -> New``` which should open a new window in your version of VS. Now if you go to ```File -> Save As``` and then save your file anything with the with the file extension ```.py``` e.g. ```coding_day_programming_challenge.py``` - make sure it's memorable and saved in a folder you'll know!"
   ]
  },
  {
   "cell_type": "markdown",
   "id": "91bab793",
   "metadata": {},
   "source": [
    "Now you should be able to type out your code freely! To run your code hit the ```Run``` button at the top of your VS and you're away free!\n",
    "\n",
    "When a Python script files you'll see an error message which will reference the line of the error - this is the best place to start when debugging!"
   ]
  }
 ],
 "metadata": {
  "kernelspec": {
   "display_name": "Python 3 (ipykernel)",
   "language": "python",
   "name": "python3"
  },
  "language_info": {
   "codemirror_mode": {
    "name": "ipython",
    "version": 3
   },
   "file_extension": ".py",
   "mimetype": "text/x-python",
   "name": "python",
   "nbconvert_exporter": "python",
   "pygments_lexer": "ipython3",
   "version": "3.8.10"
  }
 },
 "nbformat": 4,
 "nbformat_minor": 5
}
